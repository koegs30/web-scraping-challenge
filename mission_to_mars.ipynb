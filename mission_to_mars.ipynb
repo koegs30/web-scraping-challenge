{
 "cells": [
  {
   "cell_type": "code",
   "execution_count": 12,
   "metadata": {},
   "outputs": [],
   "source": [
    "# Import dependencies\n",
    "from bs4 import BeautifulSoup\n",
    "import requests\n",
    "import selenium\n",
    "from splinter import Browser\n",
    "import pandas as pd\n",
    "import re\n",
    "import time"
   ]
  },
  {
   "cell_type": "code",
   "execution_count": 13,
   "metadata": {},
   "outputs": [],
   "source": [
    "executable_path = {'executable_path': r'C:\\webdriver\\chromedriver'}\n",
    "browser = Browser('chrome', **executable_path, headless=False)"
   ]
  },
  {
   "cell_type": "code",
   "execution_count": 14,
   "metadata": {},
   "outputs": [],
   "source": [
    "url = 'https://mars.nasa.gov/news/'\n",
    "browser.visit(url)\n",
    "time.sleep(5)"
   ]
  },
  {
   "cell_type": "code",
   "execution_count": 15,
   "metadata": {},
   "outputs": [],
   "source": [
    "html = browser.html\n",
    "soup = BeautifulSoup(html, 'html.parser')"
   ]
  },
  {
   "cell_type": "code",
   "execution_count": 16,
   "metadata": {},
   "outputs": [],
   "source": [
    "# retrieve title and paragraph for first news title on NASA site\n",
    "news_title = soup.find(\"li\", class_=\"slide\").find(\"div\", class_=\"content_title\").text\n",
    "news_p = soup.find(\"li\", class_=\"slide\").find(\"div\", class_=\"article_teaser_body\").text"
   ]
  },
  {
   "cell_type": "code",
   "execution_count": 17,
   "metadata": {},
   "outputs": [],
   "source": [
    "#JPL Mars Space Images - Featured Image\n",
    "url2 = 'https://www.jpl.nasa.gov/spaceimages/?search=&category=Mars'\n",
    "browser.visit(url2)"
   ]
  },
  {
   "cell_type": "code",
   "execution_count": 18,
   "metadata": {},
   "outputs": [],
   "source": [
    "html = browser.html\n",
    "soup2 = BeautifulSoup(html, 'html.parser')"
   ]
  },
  {
   "cell_type": "code",
   "execution_count": 19,
   "metadata": {},
   "outputs": [],
   "source": [
    "# retrieve the text from the style which includes background image url\n",
    "# jpl_carousel = soup2.find('article', class_='carousel_item')\n",
    "div_style = soup2.find('article')['style']"
   ]
  },
  {
   "cell_type": "code",
   "execution_count": 20,
   "metadata": {},
   "outputs": [],
   "source": [
    "# extract image location from style and combine with jpl index url\n",
    "short_url = div_style.replace(\"background-image: url('\",\"\").replace(\"');\",\"\")\n",
    "featured_image_url = \"https://www.jpl.nasa.gov\"+short_url"
   ]
  },
  {
   "cell_type": "code",
   "execution_count": 21,
   "metadata": {},
   "outputs": [],
   "source": [
    "# Mars Weather\n",
    "url3 = 'https://twitter.com/marswxreport?lang=en'\n",
    "browser.visit(url3)\n",
    "time.sleep(5)"
   ]
  },
  {
   "cell_type": "code",
   "execution_count": 22,
   "metadata": {},
   "outputs": [],
   "source": [
    "html = browser.html\n",
    "soup3 = BeautifulSoup(html, 'html.parser')"
   ]
  },
  {
   "cell_type": "code",
   "execution_count": 23,
   "metadata": {},
   "outputs": [],
   "source": [
    "# retrieve Mars weather tweet\n",
    "mars_tweet = soup3.find('div', class_='css-1dbjc4n')\n",
    "weather_tweets = mars_tweet(text=re.compile(r' sol'))\n",
    "mars_weather = weather_tweets[0]"
   ]
  },
  {
   "cell_type": "code",
   "execution_count": 24,
   "metadata": {},
   "outputs": [],
   "source": [
    "# Mars Facts\n",
    "url4 = 'https://space-facts.com/mars/'\n",
    "browser.visit(url4)"
   ]
  },
  {
   "cell_type": "code",
   "execution_count": 25,
   "metadata": {},
   "outputs": [],
   "source": [
    "html = browser.html\n",
    "soup4 = BeautifulSoup(html, 'html.parser')"
   ]
  },
  {
   "cell_type": "code",
   "execution_count": 26,
   "metadata": {},
   "outputs": [],
   "source": [
    "#retrieve Mars Facts\n",
    "table = soup4.find('table', class_='tablepress')\n",
    "table = pd.read_html(url4)\n",
    "mars_df = table[0]\n",
    "html_table = mars_df.to_html()\n",
    "html_table=html_table.replace('\\n', '')"
   ]
  },
  {
   "cell_type": "code",
   "execution_count": 27,
   "metadata": {},
   "outputs": [],
   "source": [
    "# Mars Hemispheres\n",
    "url5 = 'https://astrogeology.usgs.gov/search/results?q=hemisphere+enhanced&k1=target&v1=Mars'\n",
    "browser.visit(url5)"
   ]
  },
  {
   "cell_type": "code",
   "execution_count": 28,
   "metadata": {},
   "outputs": [],
   "source": [
    "# use a loop to loop through the 4 hemispheres, click through to their page and pull high res image\n",
    "\n",
    "html = browser.html\n",
    "soup5 = BeautifulSoup(html, 'html.parser')\n",
    "\n",
    "hemi_list = []\n",
    "\n",
    "hemispheres = soup5.find_all('div', class_=\"item\")\n",
    "for hemi in hemispheres:\n",
    "    link = hemi.a['href']\n",
    "    link_long = \"https://astrogeology.usgs.gov\"+link\n",
    "    browser.visit(link_long)\n",
    "    html2 = browser.html\n",
    "    soup6 = BeautifulSoup(html2, 'html.parser')\n",
    "    raw_title = soup6.find('title').text\n",
    "    title = raw_title.replace(\"Enhanced | USGS Astrogeology Science Center\",\"\").replace(\"e \",\"e\")\n",
    "    hemi_dict = {}\n",
    "    hemi_dict.update({'title': title})\n",
    "    short_img_url = soup6.find('img', class_=\"wide-image\")[\"src\"]\n",
    "    img_url = \"https://astrogeology.usgs.gov\"+short_img_url\n",
    "    hemi_dict.update({'img_url': img_url})\n",
    "    hemi_list.append(hemi_dict)    "
   ]
  },
  {
   "cell_type": "code",
   "execution_count": 29,
   "metadata": {},
   "outputs": [],
   "source": [
    "browser.quit()"
   ]
  }
 ],
 "metadata": {
  "kernelspec": {
   "display_name": "Python 3",
   "language": "python",
   "name": "python3"
  },
  "language_info": {
   "codemirror_mode": {
    "name": "ipython",
    "version": 3
   },
   "file_extension": ".py",
   "mimetype": "text/x-python",
   "name": "python",
   "nbconvert_exporter": "python",
   "pygments_lexer": "ipython3",
   "version": "3.7.4"
  }
 },
 "nbformat": 4,
 "nbformat_minor": 2
}
